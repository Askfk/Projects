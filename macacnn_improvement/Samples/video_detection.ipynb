{
 "cells": [
  {
   "cell_type": "code",
   "execution_count": 1,
   "metadata": {
    "colab": {
     "base_uri": "https://localhost:8080/",
     "height": 153
    },
    "colab_type": "code",
    "executionInfo": {
     "elapsed": 15114,
     "status": "ok",
     "timestamp": 1596986786109,
     "user": {
      "displayName": "Yiming Lee",
      "photoUrl": "",
      "userId": "09224863046362202728"
     },
     "user_tz": -60
    },
    "id": "7hVpSWpsN6Z2",
    "outputId": "b85ff438-400f-465f-8c4a-9f55d127e701"
   },
   "outputs": [],
   "source": [
    "import os\n",
    "import sys\n",
    "import random\n",
    "import time\n",
    "import numpy as np\n",
    "import cv2\n",
    "import json\n",
    "import matplotlib.pyplot as plt\n",
    "import imutils\n",
    "import colorsys\n",
    "import tensorflow as tf\n",
    "\n",
    "from macacnn_improvement import MACA\n",
    "from macacnn_improvement.config import Config\n",
    "from macacnn_improvement.scripts.cocovg import CocoVGConfig\n",
    "\n",
    "TOKENIZER = \"/Users/liyiming/Desktop/Birmingham Life/project/DATASET/COCOVG/tokenizer.json\"\n",
    "VIDEO_INPUT_ROOT = \"/Users/liyiming/Desktop/Birmingham Life/project/DATASET/source_material\"\n",
    "VIDEO_OUTPUT_ROOT = \"/Users/liyiming/Desktop/Birmingham Life/project/DATASET/outputs\"\n",
    "WEIGHT_PATH = \"/Users/liyiming/Downloads/macacnn_cocovg.hdf5\"\n",
    "MODEL_DIR = \"../\""
   ]
  },
  {
   "cell_type": "code",
   "execution_count": 2,
   "metadata": {
    "colab": {},
    "colab_type": "code",
    "executionInfo": {
     "elapsed": 47427,
     "status": "ok",
     "timestamp": 1596986819992,
     "user": {
      "displayName": "Yiming Lee",
      "photoUrl": "",
      "userId": "09224863046362202728"
     },
     "user_tz": -60
    },
    "id": "nLqwjvZ2OE3W"
   },
   "outputs": [],
   "source": [
    "with open(TOKENIZER, 'r') as load_f:\n",
    "  js_tok = json.load(load_f)\n",
    "tokenizer = tf.keras.preprocessing.text.tokenizer_from_json(js_tok)"
   ]
  },
  {
   "cell_type": "code",
   "execution_count": 3,
   "metadata": {
    "colab": {
     "base_uri": "https://localhost:8080/",
     "height": 224
    },
    "colab_type": "code",
    "executionInfo": {
     "elapsed": 85153,
     "status": "ok",
     "timestamp": 1596986858101,
     "user": {
      "displayName": "Yiming Lee",
      "photoUrl": "",
      "userId": "09224863046362202728"
     },
     "user_tz": -60
    },
    "id": "leWhE8JeOH4V",
    "outputId": "2c12a3ea-5283-4f51-9250-f3955598f6e5"
   },
   "outputs": [
    {
     "name": "stderr",
     "output_type": "stream",
     "text": [
      "WARNING: Logging before flag parsing goes to stderr.\n",
      "W0809 17:33:51.163639 4445736384 deprecation.py:506] From /Users/liyiming/.local/lib/python3.6/site-packages/tensorflow/python/ops/resource_variable_ops.py:1666: calling BaseResourceVariable.__init__ (from tensorflow.python.ops.resource_variable_ops) with constraint is deprecated and will be removed in a future version.\n",
      "Instructions for updating:\n",
      "If using Keras pass *_constraint arguments to layers.\n"
     ]
    },
    {
     "name": "stdout",
     "output_type": "stream",
     "text": [
      "[INFO] Loading weights from  /Users/liyiming/Downloads/macacnn_cocovg.hdf5\n",
      "Start loading weights from /Users/liyiming/Downloads/macacnn_cocovg.hdf5\n",
      "Load weights successfully.\n",
      "Set log dir successfully.\n"
     ]
    }
   ],
   "source": [
    "class InferenceConfig(CocoVGConfig):\n",
    "    GPU_COUNT = 1\n",
    "    IMAGES_PER_GPU = 1\n",
    "    BACKBONE = 'efficientnet-b3'\n",
    "\n",
    "inference_config = InferenceConfig()\n",
    "\n",
    "# Recreate the model in inference mode\n",
    "model = MACA.MACA(mode=\"inference\", \n",
    "                  config=inference_config,\n",
    "                  model_dir=MODEL_DIR,\n",
    "                  tokenizer=tokenizer)\n",
    "\n",
    "# Load trained weights\n",
    "print(\"[INFO] Loading weights from \", WEIGHT_PATH)\n",
    "model.load_weights(WEIGHT_PATH, by_name=True)"
   ]
  },
  {
   "cell_type": "code",
   "execution_count": 4,
   "metadata": {
    "colab": {},
    "colab_type": "code",
    "executionInfo": {
     "elapsed": 570,
     "status": "ok",
     "timestamp": 1596986966407,
     "user": {
      "displayName": "Yiming Lee",
      "photoUrl": "",
      "userId": "09224863046362202728"
     },
     "user_tz": -60
    },
    "id": "hkUqwsnXOOrE"
   },
   "outputs": [],
   "source": [
    "def apply_mask(image, mask, color, alpha=0.5):\n",
    "    # Apply mask to the image\n",
    "    for c in range(3):\n",
    "        image[:, :, c] = np.where(mask == 1,\n",
    "                                  image[:, :, c] *\n",
    "                                  (1 - alpha) + alpha * color[c] * 255,\n",
    "                                  image[:, :, c])\n",
    "    return image\n",
    "\n",
    "\n",
    "def visualize(image, boxes, masks, ids, captions, scores=None, colors=None,\n",
    "              N=None, attentions=None, show_attentions=False, show_boxes=True, \n",
    "              show_captions=True, show_masks=True):\n",
    "  \n",
    "    if N:\n",
    "        N = np.minimum(N, boxes.shape[0])\n",
    "        N = np.random.choice(np.arange(bboxes.shape[0]), N)\n",
    "    else:\n",
    "        N = np.arange(boxes.shape[0])\n",
    "\n",
    "    if not N.shape[0]:\n",
    "        print(\"No caption instances to display!\\n\")\n",
    "\n",
    "    caption_colors = colors or Config.COLORS\n",
    "\n",
    "    if show_masks:\n",
    "        if masks.shape[2] == 0:\n",
    "            print(\"No mask instances to display!\\n\")\n",
    "        mask_colors = colors or Config.COLORS\n",
    "        for i in range(masks.shape[2]):\n",
    "            color = mask_colors[ids[i]-1]\n",
    "            mask = masks[:, :, i]\n",
    "            image = apply_mask(image, mask, color)\n",
    "\n",
    "    if show_boxes:\n",
    "        for i in N:\n",
    "            if not np.any(boxes[i]):\n",
    "                continue\n",
    "            color = caption_colors[i]\n",
    "            y1, x1, y2, x2 = boxes[i]\n",
    "            image = cv2.rectangle(image, (x1, y1), (x2, y2), color, 2)\n",
    "            if show_captions:\n",
    "                image = cv2.putText(image, captions[i], (x1, y1 + 4), cv2.FONT_HERSHEY_COMPLEX, 0.7, color, 2)\n",
    "\n",
    "    return image"
   ]
  },
  {
   "cell_type": "code",
   "execution_count": 5,
   "metadata": {
    "colab": {
     "base_uri": "https://localhost:8080/",
     "height": 34
    },
    "colab_type": "code",
    "executionInfo": {
     "elapsed": 641,
     "status": "ok",
     "timestamp": 1596987019665,
     "user": {
      "displayName": "Yiming Lee",
      "photoUrl": "",
      "userId": "09224863046362202728"
     },
     "user_tz": -60
    },
    "id": "6VM1bW__WqJq",
    "outputId": "03be3f30-11b8-48c8-c53a-1a95c9f8bed4"
   },
   "outputs": [
    {
     "name": "stdout",
     "output_type": "stream",
     "text": [
      "[INFO] Read video from: /Users/liyiming/Desktop/Birmingham Life/project/DATASET/source_material/videoplayback.mp4\n",
      "[INFO] Video output to: /Users/liyiming/Desktop/Birmingham Life/project/DATASET/outputs/videoplayback.mp4\n",
      "[INFO] Total frames in video: 5425\n",
      "[INFO] Video frame rates: 30\n",
      "[INFO] Video frame width: 640\n",
      "[INFO] Video frame height: 360\n"
     ]
    }
   ],
   "source": [
    "video_name = 'videoplayback.mp4'\n",
    "output_name = video_name.split(\".\")[0] + \".mp4\"\n",
    "cap = cv2.VideoCapture(os.path.join(VIDEO_INPUT_ROOT, video_name))\n",
    "prop = cv2.cv.CV_CAP_PROP_FRAME_COUNT if imutils.is_cv2() else cv2.CAP_PROP_FRAME_COUNT\n",
    "total = int(cap.get(prop))\n",
    "frame_rate = int(cap.get(5))\n",
    "frame_width = int(cap.get(3))\n",
    "frame_height = int(cap.get(4))\n",
    "fourcc = cv2.VideoWriter_fourcc(*'MP4V')\n",
    "\n",
    "print(\"[INFO] Read video from: {}\".format(os.path.join(VIDEO_INPUT_ROOT, video_name)))\n",
    "print(\"[INFO] Video output to: {}\".format(os.path.join(VIDEO_OUTPUT_ROOT, output_name)))\n",
    "print(\"[INFO] Total frames in video: {}\".format(total))\n",
    "print(\"[INFO] Video frame rates: {}\".format(frame_rate))\n",
    "print(\"[INFO] Video frame width: {}\".format(frame_width))\n",
    "print(\"[INFO] Video frame height: {}\".format(frame_height))\n",
    "\n",
    "if not os.path.exists(VIDEO_OUTPUT_ROOT):\n",
    "    os.mkdir(VIDEO_OUTPUT_ROOT)\n",
    "out = cv2.VideoWriter(os.path.join(VIDEO_OUTPUT_ROOT, output_name), \n",
    "                      fourcc, frame_rate, (frame_width, frame_height), True)"
   ]
  },
  {
   "cell_type": "code",
   "execution_count": null,
   "metadata": {
    "colab": {
     "base_uri": "https://localhost:8080/",
     "height": 1000
    },
    "colab_type": "code",
    "executionInfo": {
     "elapsed": 2156802,
     "status": "error",
     "timestamp": 1596989182827,
     "user": {
      "displayName": "Yiming Lee",
      "photoUrl": "",
      "userId": "09224863046362202728"
     },
     "user_tz": -60
    },
    "id": "kgNaUw_rPEsJ",
    "outputId": "d0d3c261-55d9-4731-b82b-4444ff70e976"
   },
   "outputs": [],
   "source": [
    "number_of_frame = 1\n",
    "while cap.isOpened():\n",
    "    s = time.time()\n",
    "    ret, frame = cap.read()\n",
    "    if ret:\n",
    "        results = model.detect([frame], verbose=0)\n",
    "        r = results[0]\n",
    "\n",
    "        # clear_output(wait=True)\n",
    "\n",
    "        frame = visualize(frame, r['rois'], r['masks'], r['class_ids'], r['captions'], r['scores'], show_boxes=False)\n",
    "        out.write(frame)\n",
    "\n",
    "        print(\"Currently frame {}, {:.2f} s, fps: {:.2f}\".format(\n",
    "            number_of_frame, number_of_frame / 25, 1 / (time.time() - s)))\n",
    "        number_of_frame += 1\n",
    "        if number_of_frame == total:\n",
    "            break\n",
    "\n",
    "    cv2.imshow(\"frame\", frame)\n",
    "    if cv2.waitKey(1) & 0xFF == ord('q'):\n",
    "        break\n",
    "\n",
    "cap.release()\n",
    "cv2.destroyAllWindows() "
   ]
  },
  {
   "cell_type": "code",
   "execution_count": null,
   "metadata": {
    "colab": {},
    "colab_type": "code",
    "id": "AZykhjENVmY7"
   },
   "outputs": [],
   "source": []
  }
 ],
 "metadata": {
  "accelerator": "GPU",
  "colab": {
   "collapsed_sections": [],
   "name": "video_detection.ipynb",
   "provenance": []
  },
  "kernelspec": {
   "display_name": "Python 3",
   "language": "python",
   "name": "python3"
  },
  "language_info": {
   "codemirror_mode": {
    "name": "ipython",
    "version": 3
   },
   "file_extension": ".py",
   "mimetype": "text/x-python",
   "name": "python",
   "nbconvert_exporter": "python",
   "pygments_lexer": "ipython3",
   "version": "3.6.4"
  }
 },
 "nbformat": 4,
 "nbformat_minor": 1
}
